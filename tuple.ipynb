{
 "cells": [
  {
   "cell_type": "code",
   "execution_count": 1,
   "metadata": {},
   "outputs": [
    {
     "name": "stdout",
     "output_type": "stream",
     "text": [
      "('p', 'a', 'r', 'j', 'w', 'a', 'l')\n"
     ]
    }
   ],
   "source": [
    "#tuple1=tuple()\n",
    "#empty tuple\n",
    "#tuple2=tuple(2) it is not tuple becouse it is belonging to interger class\n",
    "#tuple3=tuple(2,) it is tuple # here after the element you need comma\n",
    "a=\"parjwal\"\n",
    "tuple1=tuple(a)\n",
    "print(tuple1)"
   ]
  },
  {
   "cell_type": "code",
   "execution_count": 2,
   "metadata": {},
   "outputs": [
    {
     "name": "stdout",
     "output_type": "stream",
     "text": [
      "[1, 2, 3, 4, 5, 6, 7, 8, 9]\n",
      "(1, 2, 3, 4, 5, 6, 7, 8, 9)\n"
     ]
    }
   ],
   "source": [
    "a=[1,2,3,4,5,6,7,8,9]\n",
    "print(a)\n",
    "tuple1=tuple(a)\n",
    "print(tuple1)"
   ]
  },
  {
   "cell_type": "code",
   "execution_count": null,
   "metadata": {},
   "outputs": [],
   "source": [
    "#slicing\n",
    "#Updating tuple\n",
    "#Delete tuple\n",
    "#Tuple length\n",
    "#Concatenate \n",
    "#Repetition"
   ]
  },
  {
   "cell_type": "code",
   "execution_count": 5,
   "metadata": {},
   "outputs": [
    {
     "name": "stdout",
     "output_type": "stream",
     "text": [
      "<class 'str'>\n"
     ]
    }
   ],
   "source": [
    "tuple1=(\"prajwal\")\n",
    "print(type(tuple1))"
   ]
  },
  {
   "cell_type": "code",
   "execution_count": 15,
   "metadata": {},
   "outputs": [
    {
     "name": "stdout",
     "output_type": "stream",
     "text": [
      "1\n",
      "2\n",
      "3\n",
      "4\n"
     ]
    }
   ],
   "source": [
    "#Traversing:\n",
    "tuple=(1,2,3,4)\n",
    "for t in tuple:\n",
    "    print(t)\n"
   ]
  },
  {
   "cell_type": "code",
   "execution_count": 16,
   "metadata": {},
   "outputs": [
    {
     "name": "stdout",
     "output_type": "stream",
     "text": [
      "1\n",
      "2\n",
      "3\n",
      "4\n",
      "5\n"
     ]
    }
   ],
   "source": [
    "#traversing:\n",
    "tuple=(1,2,3,4,5)\n",
    "for i in range(len(tuple)):\n",
    "    print(tuple[i])"
   ]
  },
  {
   "cell_type": "code",
   "execution_count": 18,
   "metadata": {},
   "outputs": [
    {
     "name": "stdout",
     "output_type": "stream",
     "text": [
      "(1, 2, 3, 4, 5, 1, 2, 3, 4, 5, 1, 2, 3, 4, 5)\n"
     ]
    }
   ],
   "source": [
    "#Repetition/Replecation\n",
    "tuple=(1,2,3,4,5)\n",
    "tuple1=tuple*3\n",
    "print(tuple1)\n"
   ]
  },
  {
   "cell_type": "code",
   "execution_count": 22,
   "metadata": {},
   "outputs": [
    {
     "name": "stdout",
     "output_type": "stream",
     "text": [
      "('ram', 'shyam', 'sita', 'gita', 'prajwal')\n",
      "True\n"
     ]
    }
   ],
   "source": [
    "tuple1=(\"ram\",\"shyam\",\"sita\",\"gita\",\"prajwal\")\n",
    "print(tuple1)\n",
    "print(\"ram\" in tuple1)\n",
    "\n"
   ]
  },
  {
   "cell_type": "code",
   "execution_count": 25,
   "metadata": {},
   "outputs": [
    {
     "name": "stdout",
     "output_type": "stream",
     "text": [
      "('shyam', 'sita', 'gita', 'radha')\n"
     ]
    }
   ],
   "source": [
    "tuple1=(\"ram\",\"shyam\",\"sita\",\"gita\",\"radha\")\n",
    "tuple=tuple1[1:5]\n",
    "print(tuple)"
   ]
  },
  {
   "cell_type": "code",
   "execution_count": 26,
   "metadata": {},
   "outputs": [
    {
     "name": "stdout",
     "output_type": "stream",
     "text": [
      "(90, 80, 70, 60, 50, 40, 20, 10)\n"
     ]
    }
   ],
   "source": [
    "tuple=(10,20,40,50,60,70,80,90)\n",
    "tuple1=tuple[-1::-1]\n",
    "print(tuple1)"
   ]
  },
  {
   "cell_type": "code",
   "execution_count": 30,
   "metadata": {},
   "outputs": [
    {
     "name": "stdout",
     "output_type": "stream",
     "text": [
      "[10, 30, 50, 70, 80, 90]\n"
     ]
    }
   ],
   "source": [
    "tuple=(90,80,70,50,30,10)\n",
    "print(sorted(tuple))"
   ]
  },
  {
   "cell_type": "code",
   "execution_count": 33,
   "metadata": {},
   "outputs": [
    {
     "name": "stdout",
     "output_type": "stream",
     "text": [
      "(10, 20, 30, 40, 90, 100, 101)\n"
     ]
    }
   ],
   "source": [
    "tuple1=(10,20,30,40)\n",
    "tuple2=(90,100,101)\n",
    "tuple3=tuple1+tuple2\n",
    "print(tuple3)"
   ]
  },
  {
   "cell_type": "code",
   "execution_count": 7,
   "metadata": {},
   "outputs": [
    {
     "name": "stdout",
     "output_type": "stream",
     "text": [
      "Original tuple is: ('shyam', 'radha', 'ram', 'sita')\n",
      "length of the tuple is: 4\n"
     ]
    }
   ],
   "source": [
    "#len():\n",
    "tuple=(\"shyam\",\"radha\",\"ram\",\"sita\")\n",
    "print(\"Original tuple is:\",tuple)\n",
    "print(\"length of the tuple is:\",len(tuple))\n"
   ]
  },
  {
   "cell_type": "code",
   "execution_count": 8,
   "metadata": {},
   "outputs": [
    {
     "name": "stdout",
     "output_type": "stream",
     "text": [
      "Original tuple is: ('ram', 'sita', 'shyam', 'krishna')\n",
      "('ram', 'sita', 'shyam', 'krishna')\n"
     ]
    }
   ],
   "source": [
    "#max():\n",
    "tuple=(\"ram\",\"sita\",\"shyam\",\"krishna\")\n",
    "print(\"Original tuple is:\",tuple)\n",
    "max (tuple)\n",
    "print(tuple)"
   ]
  },
  {
   "cell_type": "code",
   "execution_count": 10,
   "metadata": {},
   "outputs": [
    {
     "name": "stdout",
     "output_type": "stream",
     "text": [
      "original tuple is: (10, 20, 30, 40, 50, 60)\n"
     ]
    },
    {
     "data": {
      "text/plain": [
       "60"
      ]
     },
     "execution_count": 10,
     "metadata": {},
     "output_type": "execute_result"
    }
   ],
   "source": [
    "tuple=(10,20,30,40,50,60)\n",
    "print(\"original tuple is:\",tuple)\n",
    "max (tuple)\n"
   ]
  },
  {
   "cell_type": "code",
   "execution_count": 15,
   "metadata": {},
   "outputs": [
    {
     "name": "stdout",
     "output_type": "stream",
     "text": [
      "<class 'tuple'>\n",
      "index of 30 is: 2\n",
      "index of 50 is: 4\n"
     ]
    }
   ],
   "source": [
    "#index\n",
    "a=(10,20,30,40,50)\n",
    "print(type(a))\n",
    "b=a.index(30)\n",
    "print(\"index of 30 is:\",b)\n",
    "c=a.index(50)\n",
    "print(\"index of 50 is:\",c)"
   ]
  },
  {
   "cell_type": "code",
   "execution_count": 20,
   "metadata": {},
   "outputs": [
    {
     "name": "stdout",
     "output_type": "stream",
     "text": [
      "original tuple is: ('ram', 'shyam', 'sita', 'gita', 'ram', 'sita')\n",
      "Check the frequency of the tuple: 2\n",
      "Check the frequency of the tuple: 2\n"
     ]
    }
   ],
   "source": [
    "#count\n",
    "tuple=(\"ram\",\"shyam\",\"sita\",\"gita\",\"ram\",\"sita\")\n",
    "print(\"original tuple is:\",tuple)\n",
    "a=tuple.count(\"ram\")\n",
    "print(\"Check the frequency of the tuple:\",a)\n",
    "b=tuple.count(\"sita\")\n",
    "print(\"Check the frequency of the tuple:\",b)\n"
   ]
  },
  {
   "cell_type": "code",
   "execution_count": 24,
   "metadata": {},
   "outputs": [
    {
     "ename": "TypeError",
     "evalue": "'tuple' object is not callable",
     "output_type": "error",
     "traceback": [
      "\u001b[1;31m---------------------------------------------------------------------------\u001b[0m",
      "\u001b[1;31mTypeError\u001b[0m                                 Traceback (most recent call last)",
      "Cell \u001b[1;32mIn[24], line 4\u001b[0m\n\u001b[0;32m      2\u001b[0m y\u001b[38;5;241m=\u001b[39m\u001b[38;5;28mlist\u001b[39m(x)\n\u001b[0;32m      3\u001b[0m y[\u001b[38;5;241m2\u001b[39m]\u001b[38;5;241m=\u001b[39m\u001b[38;5;124m\"\u001b[39m\u001b[38;5;124mjonson\u001b[39m\u001b[38;5;124m\"\u001b[39m\n\u001b[1;32m----> 4\u001b[0m x\u001b[38;5;241m=\u001b[39m\u001b[38;5;28;43mtuple\u001b[39;49m\u001b[43m(\u001b[49m\u001b[43my\u001b[49m\u001b[43m)\u001b[49m\n\u001b[0;32m      5\u001b[0m \u001b[38;5;28mprint\u001b[39m(x)\n",
      "\u001b[1;31mTypeError\u001b[0m: 'tuple' object is not callable"
     ]
    }
   ],
   "source": [
    "x=(\"prajwal\",\"kiwi\",\"jon\",\"lily\")\n",
    "y=list(x)\n",
    "y[2]=\"jonson\"\n",
    "x=tuple(y)\n",
    "print(x)"
   ]
  },
  {
   "cell_type": "code",
   "execution_count": 25,
   "metadata": {},
   "outputs": [
    {
     "name": "stdout",
     "output_type": "stream",
     "text": [
      "('ram', 'shyam', 'sita', 'gita')\n"
     ]
    },
    {
     "ename": "TypeError",
     "evalue": "'tuple' object does not support item assignment",
     "output_type": "error",
     "traceback": [
      "\u001b[1;31m---------------------------------------------------------------------------\u001b[0m",
      "\u001b[1;31mTypeError\u001b[0m                                 Traceback (most recent call last)",
      "Cell \u001b[1;32mIn[25], line 3\u001b[0m\n\u001b[0;32m      1\u001b[0m \u001b[38;5;28mtuple\u001b[39m\u001b[38;5;241m=\u001b[39m(\u001b[38;5;124m\"\u001b[39m\u001b[38;5;124mram\u001b[39m\u001b[38;5;124m\"\u001b[39m,\u001b[38;5;124m\"\u001b[39m\u001b[38;5;124mshyam\u001b[39m\u001b[38;5;124m\"\u001b[39m,\u001b[38;5;124m\"\u001b[39m\u001b[38;5;124msita\u001b[39m\u001b[38;5;124m\"\u001b[39m,\u001b[38;5;124m\"\u001b[39m\u001b[38;5;124mgita\u001b[39m\u001b[38;5;124m\"\u001b[39m)\n\u001b[0;32m      2\u001b[0m \u001b[38;5;28mprint\u001b[39m(\u001b[38;5;28mtuple\u001b[39m)\n\u001b[1;32m----> 3\u001b[0m \u001b[38;5;28;43mtuple\u001b[39;49m\u001b[43m[\u001b[49m\u001b[38;5;241;43m4\u001b[39;49m\u001b[43m]\u001b[49m\u001b[38;5;241m=\u001b[39m\u001b[38;5;124m\"\u001b[39m\u001b[38;5;124mprajwal\u001b[39m\u001b[38;5;124m\"\u001b[39m\n\u001b[0;32m      4\u001b[0m \u001b[38;5;28mprint\u001b[39m(\u001b[38;5;28mtuple\u001b[39m)\n",
      "\u001b[1;31mTypeError\u001b[0m: 'tuple' object does not support item assignment"
     ]
    }
   ],
   "source": [
    "tuple=(\"ram\",\"shyam\",\"sita\",\"gita\")\n",
    "print(tuple)\n",
    "tuple[4]=\"prajwal\"\n",
    "print(tuple)"
   ]
  },
  {
   "cell_type": "code",
   "execution_count": 1,
   "metadata": {},
   "outputs": [
    {
     "name": "stdout",
     "output_type": "stream",
     "text": [
      "<class 'tuple'>\n"
     ]
    }
   ],
   "source": [
    "a=(1,2,3,4,\"ram\",\"shyam\",\"sita\")\n",
    "print(type(a))"
   ]
  },
  {
   "cell_type": "code",
   "execution_count": 1,
   "metadata": {},
   "outputs": [
    {
     "name": "stdout",
     "output_type": "stream",
     "text": [
      "('p', 'r', 'a', 'j', 'w', 'a', 'l')\n"
     ]
    }
   ],
   "source": [
    "t1=\"prajwal\"\n",
    "t2=tuple(t1)\n",
    "print(t2)"
   ]
  },
  {
   "cell_type": "code",
   "execution_count": 2,
   "metadata": {},
   "outputs": [
    {
     "name": "stdout",
     "output_type": "stream",
     "text": [
      "(1, 2, 3, 4, 8, 5, 8, 0)\n"
     ]
    }
   ],
   "source": [
    "t1=(1,2,3,4)\n",
    "t2=(8,5,8,0)\n",
    "t3=t1+t2\n",
    "print(t3)"
   ]
  },
  {
   "cell_type": "code",
   "execution_count": 4,
   "metadata": {},
   "outputs": [
    {
     "name": "stdout",
     "output_type": "stream",
     "text": [
      "(1, 2, 3, 4)\n",
      "(1, 2, 3, 4, 1, 2, 3, 4, 1, 2, 3, 4)\n"
     ]
    }
   ],
   "source": [
    "t=(1,2,3,4,5)\n",
    "print(t1)\n",
    "print(t1*3)\n"
   ]
  },
  {
   "cell_type": "code",
   "execution_count": 6,
   "metadata": {},
   "outputs": [
    {
     "name": "stdout",
     "output_type": "stream",
     "text": [
      "original tuple is: (10, 20, 30, 40, 50, 60, 70, 80, 90)\n"
     ]
    },
    {
     "data": {
      "text/plain": [
       "(30, 40, 50)"
      ]
     },
     "execution_count": 6,
     "metadata": {},
     "output_type": "execute_result"
    }
   ],
   "source": [
    "tuple=(10,20,30,40,50,60,70,80,90)\n",
    "print(\"original tuple is:\",tuple)\n",
    "tuple[2:5]\n",
    "\n"
   ]
  },
  {
   "cell_type": "code",
   "execution_count": 7,
   "metadata": {},
   "outputs": [
    {
     "data": {
      "text/plain": [
       "(10, 30, 50, 70, 90)"
      ]
     },
     "execution_count": 7,
     "metadata": {},
     "output_type": "execute_result"
    }
   ],
   "source": [
    "#used a step value\n",
    "tuple=(10,20,30,40,50,60,70,80,90)\n",
    "tuple[0::2]"
   ]
  },
  {
   "cell_type": "code",
   "execution_count": 24,
   "metadata": {},
   "outputs": [
    {
     "name": "stdout",
     "output_type": "stream",
     "text": [
      "size of tuple: 136\n",
      "size of list: 152\n"
     ]
    }
   ],
   "source": [
    "import sys\n",
    "tuple=(10,20,30,40,50,60,70,80,\"z\",\"a\",\"p\",\"prajwal\")\n",
    "list=[10,20,30,40,50,60,70,80,\"z\",\"a\",\"p\",\"prajwal\"]\n",
    "print(\"size of tuple:\",sys.getsizeof(tuple))\n",
    "print(\"size of list:\",sys.getsizeof(list))\n"
   ]
  },
  {
   "cell_type": "code",
   "execution_count": 25,
   "metadata": {},
   "outputs": [
    {
     "data": {
      "text/plain": [
       "(1, 2, 3, 4, 'p', 'c', 'd', 'prajwal')"
      ]
     },
     "execution_count": 25,
     "metadata": {},
     "output_type": "execute_result"
    }
   ],
   "source": [
    "tuple=(1,2,3,4,'p','c','d','prajwal')\n",
    "tuple\n"
   ]
  },
  {
   "cell_type": "code",
   "execution_count": 27,
   "metadata": {},
   "outputs": [
    {
     "name": "stdout",
     "output_type": "stream",
     "text": [
      "Original tuple is: (1, 2, 3, 4, 'p', 'c', 'd', 'prajwal')\n",
      "length of the tuple is: 8\n"
     ]
    }
   ],
   "source": [
    "#len() function\n",
    "tuple=(1,2,3,4,'p','c','d','prajwal')\n",
    "print(\"Original tuple is:\",tuple)\n",
    "print(\"length of the tuple is:\",len(tuple))\n"
   ]
  },
  {
   "cell_type": "code",
   "execution_count": 2,
   "metadata": {},
   "outputs": [
    {
     "name": "stdout",
     "output_type": "stream",
     "text": [
      "4\n"
     ]
    }
   ],
   "source": [
    "#max()\n",
    "t1=(1,2,3,4)\n",
    "print(max(t1))"
   ]
  },
  {
   "cell_type": "code",
   "execution_count": 3,
   "metadata": {},
   "outputs": [
    {
     "name": "stdout",
     "output_type": "stream",
     "text": [
      "original tuple is: (0, 1, 2, 3, 4, 5, 6)\n",
      "minimum value in tuple is: 0\n"
     ]
    }
   ],
   "source": [
    "t1=(0,1,2,3,4,5,6)\n",
    "print(\"original tuple is:\",t1)\n",
    "t2=min(t1)\n",
    "print(\"minimum value in tuple is:\",t2)"
   ]
  },
  {
   "cell_type": "code",
   "execution_count": 4,
   "metadata": {},
   "outputs": [
    {
     "name": "stdout",
     "output_type": "stream",
     "text": [
      "Original tuple is: (0, 1, 2, 3, 4, 5, 6)\n",
      "Sum of tuple elements is: 21\n"
     ]
    }
   ],
   "source": [
    "t1=(0,1,2,3,4,5,6)\n",
    "print(\"Original tuple is:\",t1)\n",
    "t2=sum(t1)\n",
    "print(\"Sum of tuple elements is:\",t2)"
   ]
  },
  {
   "cell_type": "code",
   "execution_count": 5,
   "metadata": {},
   "outputs": [
    {
     "name": "stdout",
     "output_type": "stream",
     "text": [
      "Oginal list is: (1, 2, 3, 4)\n",
      "Replication of the tuple element: (1, 2, 3, 4, 1, 2, 3, 4, 1, 2, 3, 4)\n"
     ]
    }
   ],
   "source": [
    "tuple=(1,2,3,4)\n",
    "print(\"Oginal list is:\",tuple)\n",
    "print(\"Replication of the tuple element:\",tuple*3)"
   ]
  },
  {
   "cell_type": "code",
   "execution_count": 7,
   "metadata": {},
   "outputs": [
    {
     "data": {
      "text/plain": [
       "[0, 2, 4, 6, 8, 9]"
      ]
     },
     "execution_count": 7,
     "metadata": {},
     "output_type": "execute_result"
    }
   ],
   "source": [
    "tuple=(2,4,6,8,9,0)\n",
    "sorted(tuple)\n"
   ]
  },
  {
   "cell_type": "code",
   "execution_count": 1,
   "metadata": {},
   "outputs": [
    {
     "name": "stdout",
     "output_type": "stream",
     "text": [
      "(1, 2, 3, 4, [90, 70, 50])\n"
     ]
    }
   ],
   "source": [
    "t1=(1,2,3,4,[90,70,50])\n",
    "print(t1)"
   ]
  },
  {
   "cell_type": "code",
   "execution_count": 9,
   "metadata": {},
   "outputs": [
    {
     "name": "stdout",
     "output_type": "stream",
     "text": [
      "(1, 2, 3, 4, [90, 70, 50])\n",
      "(1, 2, 3, 4, [70, 50])\n"
     ]
    }
   ],
   "source": [
    "t1=(1,2,3,4,[90,70,50])\n",
    "print(t1)\n",
    "del t1[4][0]\n",
    "print(t1)"
   ]
  },
  {
   "cell_type": "code",
   "execution_count": 15,
   "metadata": {},
   "outputs": [
    {
     "name": "stdout",
     "output_type": "stream",
     "text": [
      "(1, 2, 3, 4, 5, [1, 2, 3, 4, 5])\n",
      "(1, 2, 3, 4, 5, [1, 2, 3, 4, 5, 'prajwal'])\n"
     ]
    }
   ],
   "source": [
    "tuple=(1,2,3,4,5,[1,2,3,4,5])\n",
    "print(tuple)\n",
    "tuple[5].append(\"prajwal\")\n",
    "print(tuple)"
   ]
  },
  {
   "cell_type": "code",
   "execution_count": 1,
   "metadata": {},
   "outputs": [
    {
     "name": "stdout",
     "output_type": "stream",
     "text": [
      "<class 'str'>\n"
     ]
    }
   ],
   "source": [
    "a=\"prajwal\"\n",
    "print(type(a))"
   ]
  },
  {
   "cell_type": "code",
   "execution_count": 3,
   "metadata": {},
   "outputs": [
    {
     "name": "stdout",
     "output_type": "stream",
     "text": [
      "Given strig is: prajwal\n",
      "p\n",
      "r\n",
      "a\n",
      "j\n",
      "w\n",
      "a\n",
      "l\n"
     ]
    }
   ],
   "source": [
    "a=\"prajwal\"\n",
    "print(\"Given strig is:\",a)\n",
    "for i in a:\n",
    "    print(i)"
   ]
  },
  {
   "cell_type": "code",
   "execution_count": 4,
   "metadata": {},
   "outputs": [
    {
     "name": "stdout",
     "output_type": "stream",
     "text": [
      "given string is: prawjal\n",
      "p\n",
      "r\n",
      "a\n",
      "w\n",
      "j\n",
      "a\n",
      "l\n"
     ]
    }
   ],
   "source": [
    "a=\"prawjal\"\n",
    "print(\"given string is:\",a)\n",
    "for i in range(len(a)):\n",
    "    print(a[i])\n"
   ]
  },
  {
   "cell_type": "code",
   "execution_count": 7,
   "metadata": {},
   "outputs": [
    {
     "name": "stdout",
     "output_type": "stream",
     "text": [
      "prajwalkrishna\n"
     ]
    }
   ],
   "source": [
    "a=\"prajwal\"\n",
    "b=\"krishna\"\n",
    "c=a+b\n",
    "print(c)"
   ]
  },
  {
   "cell_type": "code",
   "execution_count": 8,
   "metadata": {},
   "outputs": [
    {
     "name": "stdout",
     "output_type": "stream",
     "text": [
      "prajwalprajwalprajwal\n"
     ]
    }
   ],
   "source": [
    "a=\"prajwal\"\n",
    "print(3*\"prajwal\")"
   ]
  },
  {
   "cell_type": "markdown",
   "metadata": {},
   "source": []
  },
  {
   "cell_type": "code",
   "execution_count": 10,
   "metadata": {},
   "outputs": [
    {
     "name": "stdout",
     "output_type": "stream",
     "text": [
      "prajwal\n",
      "yes j is present in string\n"
     ]
    }
   ],
   "source": [
    "a=\"prajwal\"\n",
    "print(a)\n",
    "if \"j\" in a:\n",
    "    print(\"yes j is present in string\")\n",
    "else: \n",
    "    print(\"no j is not present in string\")   "
   ]
  },
  {
   "cell_type": "code",
   "execution_count": 20,
   "metadata": {},
   "outputs": [
    {
     "name": "stdout",
     "output_type": "stream",
     "text": [
      "original string: prajwal\n"
     ]
    },
    {
     "data": {
      "text/plain": [
       "'ajwal'"
      ]
     },
     "execution_count": 20,
     "metadata": {},
     "output_type": "execute_result"
    }
   ],
   "source": [
    "a=\"prajwal\"\n",
    "print(\"original string:\",a)\n",
    "a[2:7]\n",
    "\n"
   ]
  },
  {
   "cell_type": "code",
   "execution_count": 21,
   "metadata": {},
   "outputs": [
    {
     "name": "stdout",
     "output_type": "stream",
     "text": [
      "7\n"
     ]
    }
   ],
   "source": [
    "a=\"prajwal\"\n",
    "print(len(a))"
   ]
  },
  {
   "cell_type": "code",
   "execution_count": 22,
   "metadata": {},
   "outputs": [
    {
     "name": "stdout",
     "output_type": "stream",
     "text": [
      "original srting: prajwal\n",
      "reverse srting is: lawjarp\n"
     ]
    }
   ],
   "source": [
    "a=\"prajwal\"\n",
    "print(\"original srting:\",a)\n",
    "print(\"reverse srting is:\",a[-1::-1])"
   ]
  },
  {
   "cell_type": "code",
   "execution_count": 23,
   "metadata": {},
   "outputs": [
    {
     "name": "stdout",
     "output_type": "stream",
     "text": [
      "@\n",
      "@@\n",
      "@@@\n",
      "@@@@\n",
      "@@@@@\n"
     ]
    }
   ],
   "source": [
    "i=1\n",
    "while i<=5:\n",
    "    j=1\n",
    "    while(j<=i):\n",
    "        print('@',end='')\n",
    "        j+=1\n",
    "    print()\n",
    "    i+=1    "
   ]
  },
  {
   "cell_type": "code",
   "execution_count": 29,
   "metadata": {},
   "outputs": [
    {
     "name": "stdout",
     "output_type": "stream",
     "text": [
      "    * \n",
      "   * * \n",
      "  * * * \n",
      " * * * * \n",
      "* * * * * \n"
     ]
    }
   ],
   "source": [
    "i=1\n",
    "while(i<=5):\n",
    "    b=1\n",
    "    while(b<=5-i):\n",
    "        print(' ',end='')\n",
    "        b+=1\n",
    "    j=1\n",
    "    while(j<=i):\n",
    "        print('*',end=' ')\n",
    "        j+=1\n",
    "    print()\n",
    "    i+=1        "
   ]
  },
  {
   "cell_type": "code",
   "execution_count": 33,
   "metadata": {},
   "outputs": [
    {
     "name": "stdout",
     "output_type": "stream",
     "text": [
      "total vowels: 2\n",
      "total consonants: 5\n"
     ]
    }
   ],
   "source": [
    "a=input(\"Enter the stirng:\")\n",
    "vowel=0\n",
    "consonants=0\n",
    "for i in range(0,len(a)):\n",
    "    if(a[i]!=\" \"):\n",
    "        if(a[i]==\"a\" or a[i]==\"e\" or a[i]==\"i\" or a[i]==\"o\" or a[i]==\"u\" or a[i]==\"A\" or a[i]==\"E\" or a[i]==\"I\" or a[i]==\"O\" or a[i]==\"U\"):\n",
    "            vowel+=1\n",
    "        else:\n",
    "            consonants+=1\n",
    "print(\"total vowels:\",vowel)  \n",
    "print(\"total consonants:\",consonants)          \n",
    "               "
   ]
  },
  {
   "cell_type": "code",
   "execution_count": 37,
   "metadata": {},
   "outputs": [
    {
     "name": "stdout",
     "output_type": "stream",
     "text": [
      "total vowel: 8\n",
      "total conso: 13\n"
     ]
    }
   ],
   "source": [
    "a=input(\"Enter the string:\")\n",
    "vowel=0\n",
    "conso=0\n",
    "for i in range(0,len(a)):\n",
    "    if(a[i]!=''):\n",
    "        if(a[i]=='a' or a[i]=='e' or a[i]=='i' or a[i]=='o' or a[i]=='u' or a[i]=='A' or a[i]=='E' or a[i]=='I' or a[i]=='O' or a[i]=='U'):\n",
    "            vowel+=1\n",
    "        else:\n",
    "             conso+=1\n",
    "print(\"total vowel:\",vowel)\n",
    "print(\"total conso:\",conso)                "
   ]
  },
  {
   "cell_type": "code",
   "execution_count": 39,
   "metadata": {},
   "outputs": [
    {
     "name": "stdout",
     "output_type": "stream",
     "text": [
      "Shyam\n"
     ]
    }
   ],
   "source": [
    "a=\"shyam\"\n",
    "b=a.capitalize()\n",
    "print(b)"
   ]
  },
  {
   "cell_type": "code",
   "execution_count": 48,
   "metadata": {},
   "outputs": [
    {
     "name": "stdout",
     "output_type": "stream",
     "text": [
      "3\n"
     ]
    }
   ],
   "source": [
    "str1=\"Good Day\"\n",
    "print(str1.find(\"d\"))"
   ]
  },
  {
   "cell_type": "code",
   "execution_count": 49,
   "metadata": {},
   "outputs": [
    {
     "name": "stdout",
     "output_type": "stream",
     "text": [
      "Wellcome to Python Training Fees is 5000\n"
     ]
    }
   ],
   "source": [
    "a=\"Python\"\n",
    "b=\"Training\"\n",
    "c=5000\n",
    "print(\"Wellcome to\",a,b,\"Fees is\",c)"
   ]
  },
  {
   "cell_type": "code",
   "execution_count": 50,
   "metadata": {},
   "outputs": [
    {
     "name": "stdout",
     "output_type": "stream",
     "text": [
      "Wellcome to python training fee is 5000\n"
     ]
    }
   ],
   "source": [
    "a=\"python\"\n",
    "b=\"training\"\n",
    "fees=5000\n",
    "print(\"Wellcome to %s %s fee is %d\" % (a,b,fees) )"
   ]
  },
  {
   "cell_type": "code",
   "execution_count": 55,
   "metadata": {},
   "outputs": [
    {
     "name": "stdout",
     "output_type": "stream",
     "text": [
      "   prajwal     prajwal  \n"
     ]
    }
   ],
   "source": [
    "a=\"prajwal\"\n",
    "print(a * 2)"
   ]
  },
  {
   "cell_type": "code",
   "execution_count": 56,
   "metadata": {},
   "outputs": [
    {
     "name": "stdout",
     "output_type": "stream",
     "text": [
      "Wellcome to Python training fees is 5000.000000\n"
     ]
    }
   ],
   "source": [
    "a=\"Python\"\n",
    "b=\"training\"\n",
    "fees=5000\n",
    "print(\"Wellcome to %s %s fees is %f\" %(a,b,fees))"
   ]
  },
  {
   "cell_type": "code",
   "execution_count": 3,
   "metadata": {},
   "outputs": [
    {
     "name": "stdout",
     "output_type": "stream",
     "text": [
      "[(1, 2, 3), ('x', 'y', 'z', 'A')]\n",
      "2\n",
      "4\n"
     ]
    }
   ],
   "source": [
    "#length of the tuple inside list:\n",
    "list1=[(1,2,3),('x','y','z','A')]\n",
    "print(list1)\n",
    "print(len(list1))\n",
    "print(len(list1[1]))\n"
   ]
  },
  {
   "cell_type": "code",
   "execution_count": 6,
   "metadata": {},
   "outputs": [
    {
     "name": "stdout",
     "output_type": "stream",
     "text": [
      "[('pajju', 'lilly', 'jonson', 'jone'), (1, 2, 3, 4, 5, 6, 7, 8)]\n",
      "2\n",
      "8\n",
      "4\n"
     ]
    }
   ],
   "source": [
    "list2=[('pajju','lilly','jonson','jone'),(1,2,3,4,5,6,7,8)]\n",
    "print(list2)\n",
    "print(len(list2))\n",
    "print(len(list2[1]))\n",
    "print(len(list2[0]))"
   ]
  },
  {
   "cell_type": "code",
   "execution_count": 11,
   "metadata": {},
   "outputs": [
    {
     "name": "stdout",
     "output_type": "stream",
     "text": [
      "length of the rtuple: 4\n",
      "maximum value in tuple2: 6\n",
      "minimum value in tule2: 1\n"
     ]
    }
   ],
   "source": [
    "#len,min,max of the tuple (base on the ascii value)\n",
    "tuple1=('parjwal','lilly','jully','jonson')\n",
    "tuple2=(1,2,3,4,5,6)\n",
    "print(\"length of the rtuple:\",len(tuple1))\n",
    "print('maximum value in tuple2:',max(tuple2))\n",
    "print(\"minimum value in tule2:\",min(tuple2))\n"
   ]
  },
  {
   "cell_type": "code",
   "execution_count": 14,
   "metadata": {},
   "outputs": [
    {
     "name": "stdout",
     "output_type": "stream",
     "text": [
      "('pajju', 'radha', 'krishna', 'rama', 'shyama')\n",
      "shyama\n"
     ]
    }
   ],
   "source": [
    "tuple1=(\"pajju\",\"radha\",\"krishna\",\"rama\",\"shyama\")\n",
    "print(tuple1)\n",
    "print(max(tuple1))"
   ]
  },
  {
   "cell_type": "code",
   "execution_count": 19,
   "metadata": {},
   "outputs": [
    {
     "name": "stdout",
     "output_type": "stream",
     "text": [
      "original tuple is: (1, 2, 3, 4, 5, 'x', 'y', 'z')\n",
      "(1, 2, 3, 4, 5, 'x', 'y', 'z', 1, 2, 3, 4, 5, 'x', 'y', 'z', 1, 2, 3, 4, 5, 'x', 'y', 'z')\n"
     ]
    }
   ],
   "source": [
    "#multiplication/replication\n",
    "pajju1=(1,2,3,4,5,'x','y','z')\n",
    "print(\"original tuple is:\",pajju1)\n",
    "print(pajju1*3)\n",
    "\n"
   ]
  },
  {
   "cell_type": "code",
   "execution_count": 23,
   "metadata": {},
   "outputs": [
    {
     "name": "stdout",
     "output_type": "stream",
     "text": [
      "(10, 20, 30)\n",
      "(10, 20, 30, 30, 30)\n"
     ]
    }
   ],
   "source": [
    "#Multiply one element\n",
    "tuple1=(10,20,30)\n",
    "print(tuple)\n",
    "tuple2=tuple1[:2]\n",
    "tuple3=tuple1[2:]*3\n",
    "tuple1=tuple2+tuple3\n",
    "print(tuple1)"
   ]
  },
  {
   "cell_type": "code",
   "execution_count": 26,
   "metadata": {},
   "outputs": [
    {
     "name": "stdout",
     "output_type": "stream",
     "text": [
      "(1, 2, 3, 4, 5, 6, 7, 8)\n"
     ]
    }
   ],
   "source": [
    "tuple1=(1,2,3,4)\n",
    "tuple2=(5,6,7,8)\n",
    "tuple3=tuple1+tuple2\n",
    "print(tuple3)"
   ]
  },
  {
   "cell_type": "code",
   "execution_count": 37,
   "metadata": {},
   "outputs": [
    {
     "name": "stdout",
     "output_type": "stream",
     "text": [
      "('prajwal', 'kanchan', 'radha', 'krishna', [1, 2, 3, 4, 5], [90, 80, 70, 50])\n",
      "('prajwal', 'kanchan', 'radha', 'krishna', [1, 2, 4, 5], [90, 80, 70, 50])\n"
     ]
    }
   ],
   "source": [
    "tuple=(\"prajwal\",\"kanchan\",\"radha\",\"krishna\",[1,2,3,4,5],[90,80,70,50])\n",
    "print(tuple)\n",
    "del tuple[4][2]\n",
    "print(tuple)\n"
   ]
  },
  {
   "cell_type": "code",
   "execution_count": 48,
   "metadata": {},
   "outputs": [
    {
     "name": "stdout",
     "output_type": "stream",
     "text": [
      "([5, 6, 7], [10, 11, 12], 13, 14)\n",
      "4\n",
      "<class 'list'>\n"
     ]
    }
   ],
   "source": [
    "#update list inside Tuple\n",
    "tupl=([5,6,7],[10,11,12],13,14)\n",
    "print(tupl)\n",
    "print(len(tupl))\n",
    "print(type(tupl[0]))\n"
   ]
  },
  {
   "cell_type": "code",
   "execution_count": 52,
   "metadata": {},
   "outputs": [
    {
     "name": "stdout",
     "output_type": "stream",
     "text": [
      "(1, 2, 3, 4, 5, 6)\n",
      "Length of the tuple: 6\n",
      "[1, 2, 3, 4, 5, 6]\n"
     ]
    }
   ],
   "source": [
    "#Convert list in to tuple and tuple in to list:\n",
    "tuple=(1,2,3,4,5,6)\n",
    "print(tuple)\n",
    "print(\"Length of the tuple:\",len(tuple))\n",
    "list1=list(tuple)\n",
    "print(list1)"
   ]
  },
  {
   "cell_type": "code",
   "execution_count": 60,
   "metadata": {},
   "outputs": [
    {
     "name": "stdout",
     "output_type": "stream",
     "text": [
      "Well come in Uk Coder Prajwal and Miss Kanchan\n"
     ]
    }
   ],
   "source": [
    "a=\"Coder Prajwal\"\n",
    "b=\"Miss Kanchan\"\n",
    "print(\"Well come in Uk %s and %s\" %(a,b))"
   ]
  },
  {
   "cell_type": "code",
   "execution_count": 63,
   "metadata": {},
   "outputs": [
    {
     "name": "stdout",
     "output_type": "stream",
     "text": [
      "{1, 2, 3, 4, 5, 6, 7, 8}\n",
      "{5, 6, 7}\n",
      "{1, 2, 3, 4}\n"
     ]
    }
   ],
   "source": [
    "#Union in set\n",
    "a={1,2,3,4,5,6,7}\n",
    "b={5,6,7,8}\n",
    "c=a|b\n",
    "print(c)\n",
    "print(a&b)\n",
    "print(a-b)"
   ]
  },
  {
   "cell_type": "code",
   "execution_count": 3,
   "metadata": {},
   "outputs": [
    {
     "name": "stdout",
     "output_type": "stream",
     "text": [
      "size of list: 120\n",
      "size of tuple: 104\n"
     ]
    }
   ],
   "source": [
    "import sys\n",
    "list=[1,2,3,4,\"ram\",\"shyam\",\"sita\",\"gita\"]\n",
    "tuple=(1,2,3,4,\"ram\",\"shyam\",\"sita\",\"gita\")\n",
    "print(\"size of list:\",sys.getsizeof(list))\n",
    "print(\"size of tuple:\",sys.getsizeof(tuple))\n"
   ]
  }
 ],
 "metadata": {
  "kernelspec": {
   "display_name": "base",
   "language": "python",
   "name": "python3"
  },
  "language_info": {
   "codemirror_mode": {
    "name": "ipython",
    "version": 3
   },
   "file_extension": ".py",
   "mimetype": "text/x-python",
   "name": "python",
   "nbconvert_exporter": "python",
   "pygments_lexer": "ipython3",
   "version": "3.11.4"
  }
 },
 "nbformat": 4,
 "nbformat_minor": 2
}
